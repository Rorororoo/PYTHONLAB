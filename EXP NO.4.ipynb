{
  "metadata": {
    "kernelspec": {
      "name": "python",
      "display_name": "Python (Pyodide)",
      "language": "python"
    },
    "language_info": {
      "codemirror_mode": {
        "name": "python",
        "version": 3
      },
      "file_extension": ".py",
      "mimetype": "text/x-python",
      "name": "python",
      "nbconvert_exporter": "python",
      "pygments_lexer": "ipython3",
      "version": "3.8"
    }
  },
  "nbformat_minor": 5,
  "nbformat": 4,
  "cells": [
    {
      "id": "69c9ad20-2425-465e-9039-fe9ad7c24a34",
      "cell_type": "code",
      "source": "#ROMA DSOUZA-14",
      "metadata": {
        "trusted": true
      },
      "outputs": [],
      "execution_count": 3
    },
    {
      "id": "5ceab425-ed19-4e35-b36b-4390f4473f19",
      "cell_type": "code",
      "source": "\nfrom pathlib import Path\n\n# Get a list of all files in the current directory\nfiles = [f for f in Path('.').iterdir() if f.is_file()]\n\nprint(\"Files in the current directory:\")\nfor file in files:\n    print(file.name)",
      "metadata": {
        "trusted": true
      },
      "outputs": [
        {
          "name": "stdout",
          "output_type": "stream",
          "text": "Files in the current directory:\nUntitled1.ipynb\np5.ipynb\njavascript.ipynb\npython.ipynb\nREADME.md\n"
        }
      ],
      "execution_count": 2
    },
    {
      "id": "72450584-302a-4f2d-8a4e-018b65c85356",
      "cell_type": "code",
      "source": "",
      "metadata": {
        "trusted": true
      },
      "outputs": [],
      "execution_count": null
    }
  ]
}