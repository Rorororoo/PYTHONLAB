{
  "cells": [
    {
      "cell_type": "code",
      "execution_count": null,
      "id": "5cfe5cf3-c279-4a65-8764-32b8166773af",
      "metadata": {
        "trusted": true
      },
      "outputs": [
        {
          "name": "stdout",
          "output_type": "stream",
          "text": [
            "Lines: 4\n",
            "Words: 18\n",
            "Characters: 121\n"
          ]
        }
      ],
      "source": [
        "#ROMA -14\n",
        "\n",
        "\n",
        "if __name__ == '__main__':\n",
        "    with open ('./vcet.txt', 'r') as file:\n",
        "        lines = file.readlines ()\n",
        "        numberOfLines = len (lines)\n",
        "        numberOfWords = sum (len (line.split()) for line in lines)\n",
        "        \n",
        "        # Write numberOfCharacters over here.\n",
        "        numberOfCharacters = sum(len(line) for line in lines)\n",
        "        \n",
        "    print(f\"Lines: {numberOfLines}\")\n",
        "    print(f\"Words: {numberOfWords}\")\n",
        "    print(f\"Characters: {numberOfCharacters}\")"
      ]
    },
    {
      "cell_type": "code",
      "execution_count": null,
      "id": "18b178a0-3301-4015-87f1-d6c1f335790e",
      "metadata": {
        "trusted": true
      },
      "outputs": [],
      "source": []
    }
  ],
  "metadata": {
    "kernelspec": {
      "display_name": "Python (Pyodide)",
      "language": "python",
      "name": "python"
    },
    "language_info": {
      "codemirror_mode": {
        "name": "python",
        "version": 3
      },
      "file_extension": ".py",
      "mimetype": "text/x-python",
      "name": "python",
      "nbconvert_exporter": "python",
      "pygments_lexer": "ipython3",
      "version": "3.8"
    }
  },
  "nbformat": 4,
  "nbformat_minor": 5
}
