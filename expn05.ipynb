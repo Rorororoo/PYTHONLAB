{
  "metadata": {
    "kernelspec": {
      "name": "python",
      "display_name": "Python (Pyodide)",
      "language": "python"
    },
    "language_info": {
      "codemirror_mode": {
        "name": "python",
        "version": 3
      },
      "file_extension": ".py",
      "mimetype": "text/x-python",
      "name": "python",
      "nbconvert_exporter": "python",
      "pygments_lexer": "ipython3",
      "version": "3.8"
    }
  },
  "nbformat_minor": 5,
  "nbformat": 4,
  "cells": [
    {
      "id": "6a71809e-2515-4e73-9d09-9faf7592cc9f",
      "cell_type": "code",
      "source": "ROMA DSOUZA-14",
      "metadata": {
        "trusted": true
      },
      "outputs": [],
      "execution_count": null
    },
    {
      "id": "6e861385-b4dc-45e7-b2ee-cfc45772bf4e",
      "cell_type": "code",
      "source": "class StackDepth:\n    def maximumDepth(self, stringInput: str) -> int:\n        current_depth = 0\n        max_depth = 0\n        \n        for char in stringInput:\n            if char == '(':\n                current_depth += 1\n                max_depth = max(max_depth, current_depth)\n            elif char == ')':\n                current_depth -= 1\n        \n        return max_depth\n\nstack_depth = StackDepth()\n\n\ntest_case_1 = \"(1 + (2 * (3 + 4)))\"\n\ntest_case_2 = \"(10 + (20 + (30 + 40)))\"\n\ntest_case_3 =  \"((()))\"\n\n\n\nprint(stack_depth.maximumDepth(test_case_1))  \nprint(stack_depth.maximumDepth(test_case_2))  \nprint(stack_depth.maximumDepth(test_case_3))  \n\n\n\n",
      "metadata": {
        "trusted": true
      },
      "outputs": [
        {
          "name": "stdout",
          "output_type": "stream",
          "text": "3\n3\n3\n"
        }
      ],
      "execution_count": 7
    },
    {
      "id": "643c0832-b1d1-47a3-bd5e-b71caf7615cf",
      "cell_type": "code",
      "source": "",
      "metadata": {
        "trusted": true
      },
      "outputs": [],
      "execution_count": null
    }
  ]
}